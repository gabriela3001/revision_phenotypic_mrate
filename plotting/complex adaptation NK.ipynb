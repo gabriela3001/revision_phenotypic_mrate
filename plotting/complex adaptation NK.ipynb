{
 "cells": [
  {
   "cell_type": "code",
   "execution_count": 1,
   "id": "a1c2357c",
   "metadata": {},
   "outputs": [],
   "source": [
    "from complex_landscape_msb import *\n",
    "import os\n",
    "import pickle\n",
    "import matplotlib.pyplot as plt\n",
    "import numpy as np\n",
    "import scipy.stats\n",
    "import itertools\n",
    "from scipy.spatial.distance import hamming\n",
    "from itertools import product\n",
    "import time\n",
    "from collections import Counter\n",
    "import sys\n",
    "\n",
    "with open('NK_landscapes_6.txt', 'rb') as f:\n",
    "    NK_landscapes = pickle.load(f)\n",
    "with open('NK_paramgrid_msb.txt', 'rb') as f:\n",
    "    param_grid = pickle.load(f)"
   ]
  },
  {
   "cell_type": "code",
   "execution_count": 2,
   "id": "ae243811",
   "metadata": {},
   "outputs": [],
   "source": [
    "with open('NK_landscapes_6.txt', 'rb') as f:\n",
    "    NK_landscapes = pickle.load(f)\n",
    "with open('NK_paramgrid_msb.txt', 'rb') as f:\n",
    "    param_grid = pickle.load(f)\n",
    "    \n",
    "def return_all_genotypes(landscape):\n",
    "    \n",
    "    landscape_tuple = {}\n",
    "\n",
    "    for g in landscape:\n",
    "        landscape_tuple[tuple([str(gi) for gi in g])] = landscape[g]\n",
    "        \n",
    "    genotypes = [tuple(x) for x in landscape_tuple.keys()]\n",
    "\n",
    "    all_genotypes = []\n",
    "    for i in range(2):\n",
    "        for g in genotypes:\n",
    "            all_genotypes.append((i, g))\n",
    "            \n",
    "    return(landscape_tuple, all_genotypes)"
   ]
  },
  {
   "cell_type": "code",
   "execution_count": 108,
   "id": "0aa156ab",
   "metadata": {},
   "outputs": [],
   "source": [
    "switching_rates = np.logspace(-6,np.log10(0.5),100)\n",
    "\n",
    "param, NKind = 5, 5\n",
    "\n",
    "mu = param_grid[param]['U']\n",
    "tau = param_grid[param]['tau']\n",
    "gamma1 = param_grid[param]['gamma1']\n",
    "init_genotype_index = [11,24,57,5,17,49][NKind]\n",
    "landscape_tuple_NK, all_genotypes_NK = return_all_genotypes(NK_landscapes[NKind])\n",
    "all_results = []\n",
    "\n",
    "NK_pop_sizes = [1000,1000,10000000,10000000,10000000,10000000]\n",
    "NK_fittest_genotypes = [52,39,6,58,46,14]"
   ]
  },
  {
   "cell_type": "code",
   "execution_count": 84,
   "id": "3e7ea0ff",
   "metadata": {},
   "outputs": [
    {
     "data": {
      "text/plain": [
       "4e-05"
      ]
     },
     "execution_count": 84,
     "metadata": {},
     "output_type": "execute_result"
    }
   ],
   "source": [
    "mu"
   ]
  },
  {
   "cell_type": "code",
   "execution_count": 85,
   "id": "3ae95f37",
   "metadata": {},
   "outputs": [],
   "source": [
    "gamma_pairs = [(0,0),(25,50),(99,99)]"
   ]
  },
  {
   "cell_type": "code",
   "execution_count": 86,
   "id": "d3ced5f0",
   "metadata": {},
   "outputs": [],
   "source": [
    "gamma1 = 50\n",
    "gamma2ind = 50"
   ]
  },
  {
   "cell_type": "code",
   "execution_count": 89,
   "id": "0d0545ed",
   "metadata": {},
   "outputs": [
    {
     "name": "stdout",
     "output_type": "stream",
     "text": [
      "10000\n",
      "20000\n",
      "30000\n",
      "40000\n",
      "50000\n"
     ]
    },
    {
     "data": {
      "image/png": "[encoded data removed]",
      "text/plain": [
       "<Figure size 432x288 with 1 Axes>"
      ]
     },
     "metadata": {
      "needs_background": "light"
     },
     "output_type": "display_data"
    },
    {
     "name": "stdout",
     "output_type": "stream",
     "text": [
      "10000\n",
      "20000\n",
      "30000\n",
      "40000\n",
      "50000\n"
     ]
    },
    {
     "data": {
      "image/png": "[encoded data removed]",
      "text/plain": [
       "<Figure size 432x288 with 1 Axes>"
      ]
     },
     "metadata": {
      "needs_background": "light"
     },
     "output_type": "display_data"
    },
    {
     "name": "stdout",
     "output_type": "stream",
     "text": [
      "10000\n",
      "20000\n",
      "30000\n",
      "40000\n",
      "50000\n"
     ]
    },
    {
     "data": {
      "image/png": "[encoded data removed]",
      "text/plain": [
       "<Figure size 432x288 with 1 Axes>"
      ]
     },
     "metadata": {
      "needs_background": "light"
     },
     "output_type": "display_data"
    }
   ],
   "source": [
    "for gamma_pair in gamma_pairs:\n",
    "    \n",
    "    gamma1, gamma2ind = gamma_pair\n",
    "    \n",
    "    gamma2 = switching_rates[gamma2ind]\n",
    "    msb_pop = simulation_msb(all_genotypes_NK, landscape_tuple_NK, switching_rates[gamma1], gamma2, mu, tau, all_genotypes_NK[init_genotype_index][1])['pop']\n",
    "    transition_matrix = construct_transition_matrix(all_genotypes_NK, landscape_tuple_NK,switching_rates[gamma1], gamma2, param_grid[param]['U'], param_grid[param]['tau'])\n",
    "    fitness_vector = construct_selection_matrix(all_genotypes_NK, landscape_tuple_NK)\n",
    "\n",
    "    nreps = 50\n",
    "    pop_size = 10000000\n",
    "    ncat = len(all_genotypes_NK)\n",
    "    adaptation_results = np.zeros((nreps, ncat))\n",
    "\n",
    "    for rep in range(nreps):\n",
    "        adaptation_results[rep] = np.random.multinomial(pop_size, msb_pop)\n",
    "    adaptation_results /= np.sum(adaptation_results, axis = 1, keepdims = 1)\n",
    "\n",
    "    t = 0\n",
    "    time_start = time.process_time()\n",
    "\n",
    "    ngen = 50000\n",
    "\n",
    "    evol_mpf = np.zeros((ngen, nreps))\n",
    "    evol_argmax = np.zeros((ngen, nreps))\n",
    "    evol_mrate = np.zeros((ngen, nreps))\n",
    "\n",
    "    while t < ngen:\n",
    "\n",
    "        adaptation_results = adaptation_results @ transition_matrix\n",
    "        adaptation_results *= fitness_vector\n",
    "        adaptation_results /= np.sum(adaptation_results, axis = 1, keepdims = True)\n",
    "\n",
    "        for rep in np.arange(nreps):\n",
    "            adaptation_results[rep] = np.random.multinomial(pop_size, adaptation_results[rep])\n",
    "            evol_mpf[t, rep] = np.dot(adaptation_results[rep], fitness_vector) / pop_size\n",
    "            evol_argmax[t, rep] = np.argmax(adaptation_results[rep][:64]+adaptation_results[rep][64:])\n",
    "            evol_mrate[t, rep] = np.sum(adaptation_results[rep][64:])\n",
    "        t += 1\n",
    "\n",
    "        if t % 10000 == 0:\n",
    "            print(t)\n",
    "\n",
    "    elapsed_time = time.process_time() - time_start\n",
    "    evol_fittest = [Counter(evol_argmax[i])[14] for i in range(50000)]\n",
    "    \n",
    "    plt.plot(test)\n",
    "    plt.show()"
   ]
  },
  {
   "cell_type": "code",
   "execution_count": 58,
   "id": "21771d59",
   "metadata": {},
   "outputs": [
    {
     "data": {
      "text/plain": [
       "814.15625"
      ]
     },
     "execution_count": 58,
     "metadata": {},
     "output_type": "execute_result"
    }
   ],
   "source": [
    "elapsed_time"
   ]
  },
  {
   "cell_type": "code",
   "execution_count": 59,
   "id": "e503d57a",
   "metadata": {},
   "outputs": [
    {
     "data": {
      "text/plain": [
       "[<matplotlib.lines.Line2D at 0x2114965cee0>]"
      ]
     },
     "execution_count": 59,
     "metadata": {},
     "output_type": "execute_result"
    },
    {
     "data": {
      "image/png": "[encoded data removed]",
      "text/plain": [
       "<Figure size 432x288 with 1 Axes>"
      ]
     },
     "metadata": {
      "needs_background": "light"
     },
     "output_type": "display_data"
    }
   ],
   "source": [
    "plt.plot(test)"
   ]
  },
  {
   "cell_type": "code",
   "execution_count": 91,
   "id": "ab788afc",
   "metadata": {},
   "outputs": [
    {
     "data": {
      "text/plain": [
       "1000"
      ]
     },
     "execution_count": 91,
     "metadata": {},
     "output_type": "execute_result"
    }
   ],
   "source": [
    "50*20"
   ]
  },
  {
   "cell_type": "code",
   "execution_count": 93,
   "id": "8dfc00be",
   "metadata": {},
   "outputs": [
    {
     "data": {
      "text/plain": [
       "4.660416666666666"
      ]
     },
     "execution_count": 93,
     "metadata": {},
     "output_type": "execute_result"
    }
   ],
   "source": [
    "(elapsed_time*20)/3600"
   ]
  },
  {
   "cell_type": "code",
   "execution_count": 54,
   "id": "3cad4cd4",
   "metadata": {},
   "outputs": [
    {
     "data": {
      "text/plain": [
       "array([[49., 49., 49., ..., 49., 49., 49.],\n",
       "       [49., 49., 49., ..., 49., 49., 49.],\n",
       "       [49., 49., 49., ..., 49., 49., 49.],\n",
       "       ...,\n",
       "       [14., 14., 14., ..., 14., 14., 14.],\n",
       "       [14., 14., 14., ..., 14., 14., 14.],\n",
       "       [14., 14., 14., ..., 14., 14., 14.]])"
      ]
     },
     "execution_count": 54,
     "metadata": {},
     "output_type": "execute_result"
    }
   ],
   "source": [
    "evol_argmax"
   ]
  },
  {
   "cell_type": "code",
   "execution_count": 107,
   "id": "2e85dc59",
   "metadata": {},
   "outputs": [
    {
     "data": {
      "text/plain": [
       "52"
      ]
     },
     "execution_count": 107,
     "metadata": {},
     "output_type": "execute_result"
    }
   ],
   "source": [
    "all_genotypes_NK.index((0,('1','1','0','1','0','0')))"
   ]
  },
  {
   "cell_type": "code",
   "execution_count": 11,
   "id": "64c01b1a",
   "metadata": {},
   "outputs": [
    {
     "data": {
      "text/plain": [
       "120.36666666666666"
      ]
     },
     "execution_count": 11,
     "metadata": {},
     "output_type": "execute_result"
    }
   ],
   "source": [
    "7222/60"
   ]
  },
  {
   "cell_type": "code",
   "execution_count": 8,
   "id": "fe4b5335",
   "metadata": {},
   "outputs": [],
   "source": [
    "from sklearn.model_selection import ParameterGrid\n",
    "import pickle\n",
    "import numpy as np"
   ]
  },
  {
   "cell_type": "code",
   "execution_count": 9,
   "id": "000f66a2",
   "metadata": {},
   "outputs": [],
   "source": [
    "mu_values = [4e-5]\n",
    "tau_values = [100]\n",
    "#pop_size_values = [10000,1000000]\n",
    "switching_rate_values = list(np.arange(100))\n",
    "param_dict = {'U':mu_values, 'tau':tau_values, 'gamma1':switching_rate_values, 'gamma2': switching_rate_values}"
   ]
  },
  {
   "cell_type": "code",
   "execution_count": 10,
   "id": "46b46475",
   "metadata": {},
   "outputs": [
    {
     "data": {
      "text/plain": [
       "4"
      ]
     },
     "execution_count": 10,
     "metadata": {},
     "output_type": "execute_result"
    }
   ],
   "source": [
    "len(param_dict)"
   ]
  },
  {
   "cell_type": "code",
   "execution_count": 11,
   "id": "df0b723e",
   "metadata": {},
   "outputs": [],
   "source": [
    "with open('paramgrid_complex_adaptation.txt', 'wb') as f:\n",
    "    pickle.dump(list(ParameterGrid(param_dict)), f)"
   ]
  },
  {
   "cell_type": "code",
   "execution_count": 12,
   "id": "72ed2cda",
   "metadata": {},
   "outputs": [
    {
     "data": {
      "text/plain": [
       "10000"
      ]
     },
     "execution_count": 12,
     "metadata": {},
     "output_type": "execute_result"
    }
   ],
   "source": [
    "len(list(ParameterGrid(param_dict)))"
   ]
  },
  {
   "cell_type": "code",
   "execution_count": null,
   "id": "2cbd8c83",
   "metadata": {},
   "outputs": [],
   "source": []
  }
 ],
 "metadata": {
  "kernelspec": {
   "display_name": "Python 3",
   "language": "python",
   "name": "python3"
  },
  "language_info": {
   "codemirror_mode": {
    "name": "ipython",
    "version": 3
   },
   "file_extension": ".py",
   "mimetype": "text/x-python",
   "name": "python",
   "nbconvert_exporter": "python",
   "pygments_lexer": "ipython3",
   "version": "3.8.8"
  }
 },
 "nbformat": 4,
 "nbformat_minor": 5
}
